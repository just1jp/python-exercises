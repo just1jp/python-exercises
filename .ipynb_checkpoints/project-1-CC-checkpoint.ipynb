{
 "cells": [
  {
   "cell_type": "markdown",
   "metadata": {},
   "source": [
    "### Challenge 1: Largest Palindrome\n",
    "A palindromic number reads the same both ways. For example, 1234321 is a palindrome. The largest palindrome made from the product of two two-digit numbers is 9009 = 91 × 99. Find the largest palindrome made from the product of two three-digit numbers. Afterward, write a brief explanation walking through your code's logic in markdown."
   ]
  },
  {
   "cell_type": "code",
   "execution_count": 69,
   "metadata": {},
   "outputs": [
    {
     "data": {
      "text/plain": [
       "906609"
      ]
     },
     "execution_count": 69,
     "metadata": {},
     "output_type": "execute_result"
    }
   ],
   "source": [
    "#Create palendrome function\n",
    "    #If length is odd\n",
    "        #Cut out midpoint\n",
    "    #Split into two strings\n",
    "    #Reverse second string\n",
    "    #Compare strings\n",
    "\n",
    "def isPalendrome(num):\n",
    "    string = str(num)\n",
    "    if (len(string) % 2 == 1):\n",
    "        midpoint = int((len(string) / 2))\n",
    "        string = string[:midpoint] + string[midpoint+1:]\n",
    "    firstHalf = string[:int(len(string)/2)]\n",
    "    secondHalf = (string[int(len(string)/2):])[::-1]\n",
    "    return True if (firstHalf == secondHalf) else False\n",
    "\n",
    "#Iterate over first three digit number 100-999\n",
    "    #Iterate over second three digit number 100-999\n",
    "        #Determine if product is palendrome\n",
    "        #If palendrome is larger than currently stored palendrome, replace it\n",
    "    #Return stored palendrome\n",
    "        \n",
    "def threeDigitPalendrome():\n",
    "    palendrome = 0        \n",
    "    for i in range(100, 1000):\n",
    "        for j in range(100, 1000):\n",
    "            if (isPalendrome(i*j) and i*j > palendrome):\n",
    "                palendrome = i*j\n",
    "\n",
    "    return palendrome\n",
    "        \n",
    "threeDigitPalendrome()\n"
   ]
  },
  {
   "cell_type": "markdown",
   "metadata": {},
   "source": [
    "# ### Challenge 2: Summation of Primes\n",
    "The sum of the primes below 10 is 2 + 3 + 5 + 7 = 17. Find the sum of all the primes below 2,000. Afterward, write a brief explanation walking through your code's logic in markdown."
   ]
  },
  {
   "cell_type": "code",
   "execution_count": 4,
   "metadata": {},
   "outputs": [
    {
     "data": {
      "text/plain": [
       "277050"
      ]
     },
     "execution_count": 4,
     "metadata": {},
     "output_type": "execute_result"
    }
   ],
   "source": [
    "def isPrime(num):\n",
    "    prime = False\n",
    "    if num > 1:\n",
    "        for i in range(2, num):\n",
    "            if (num % i) == 0:\n",
    "                break\n",
    "        else:\n",
    "            prime = True\n",
    "    return prime\n",
    "    \n",
    "def sumPrimes(max):\n",
    "    sum = 0\n",
    "    for i in range(2, max):\n",
    "        if(isPrime(i)):\n",
    "            sum += i\n",
    "    return sum\n",
    "\n",
    "sumPrimes(2000)"
   ]
  },
  {
   "cell_type": "markdown",
   "metadata": {},
   "source": [
    "### Challenge 3: Multiples of 3 and 5\n",
    "If we list all of the natural numbers below 10 that are multiples of 3 or 5, we get 3, 5, 6, and 9. The sum of these multiples is 23. Find the sum of all the multiples of 3 and 5 below 1,000. Afterward, write a brief explanation walking through your code's logic in markdown."
   ]
  },
  {
   "cell_type": "code",
   "execution_count": 4,
   "metadata": {},
   "outputs": [
    {
     "data": {
      "text/plain": [
       "233168"
      ]
     },
     "execution_count": 4,
     "metadata": {},
     "output_type": "execute_result"
    }
   ],
   "source": [
    "def isMultipleOfThree(num):\n",
    "    if (num % 3 == 0):\n",
    "        return True\n",
    "    else:\n",
    "        return False\n",
    "\n",
    "def isMultipleOfFive(num):\n",
    "    if (num % 5 == 0):\n",
    "        return True\n",
    "    else:\n",
    "        return False\n",
    "\n",
    "def sumMultiplesOfThreeOrFive(num):\n",
    "    sum = 0\n",
    "    for i in range(0, num):\n",
    "        if (isMultipleOfThree(i) or isMultipleOfFive(i)):\n",
    "            sum += i\n",
    "    return sum\n",
    "\n",
    "sumMultiplesOfThreeOrFive(1000)"
   ]
  },
  {
   "cell_type": "markdown",
   "metadata": {},
   "source": [
    "### Challenge 4: String Compressor\n",
    "Implement a method to perform basic string compression using the counts of repeated characters. (This is called run-length encoding.) For example, the string \"aabcccccaaa\" would become a2b1c5a3. If the “compressed” string would not become smaller than the original string, your method should return the original string. You can assume the string has only uppercase and lowercase letters (a–z). Specify whether your solution is case sensitive or case insensitive and what you would need to change to make it the other. Afterward, write a brief explanation walking through your code's logic in markdown."
   ]
  },
  {
   "cell_type": "code",
   "execution_count": 47,
   "metadata": {},
   "outputs": [
    {
     "ename": "AttributeError",
     "evalue": "'str' object has no attribute 'append'",
     "output_type": "error",
     "traceback": [
      "\u001b[0;31m---------------------------------------------------------------------------\u001b[0m",
      "\u001b[0;31mAttributeError\u001b[0m                            Traceback (most recent call last)",
      "\u001b[0;32m<ipython-input-47-c94e5dd00c28>\u001b[0m in \u001b[0;36m<module>\u001b[0;34m\u001b[0m\n\u001b[1;32m     20\u001b[0m     \u001b[0;32mreturn\u001b[0m \u001b[0mcompressedString\u001b[0m\u001b[0;34m\u001b[0m\u001b[0;34m\u001b[0m\u001b[0m\n\u001b[1;32m     21\u001b[0m \u001b[0;34m\u001b[0m\u001b[0m\n\u001b[0;32m---> 22\u001b[0;31m \u001b[0mstringCompressor\u001b[0m\u001b[0;34m(\u001b[0m\u001b[0;34m'aabcccccaaa'\u001b[0m\u001b[0;34m)\u001b[0m\u001b[0;34m\u001b[0m\u001b[0;34m\u001b[0m\u001b[0m\n\u001b[0m",
      "\u001b[0;32m<ipython-input-47-c94e5dd00c28>\u001b[0m in \u001b[0;36mstringCompressor\u001b[0;34m(string)\u001b[0m\n\u001b[1;32m     16\u001b[0m \u001b[0;34m\u001b[0m\u001b[0m\n\u001b[1;32m     17\u001b[0m     \u001b[0;32mfor\u001b[0m \u001b[0mj\u001b[0m \u001b[0;32min\u001b[0m \u001b[0mcompressed\u001b[0m\u001b[0;34m:\u001b[0m\u001b[0;34m\u001b[0m\u001b[0;34m\u001b[0m\u001b[0m\n\u001b[0;32m---> 18\u001b[0;31m         \u001b[0mcompressedString\u001b[0m\u001b[0;34m.\u001b[0m\u001b[0mappend\u001b[0m\u001b[0;34m(\u001b[0m\u001b[0mj\u001b[0m\u001b[0;34m[\u001b[0m\u001b[0;36m0\u001b[0m\u001b[0;34m]\u001b[0m\u001b[0;34m)\u001b[0m\u001b[0;34m\u001b[0m\u001b[0;34m\u001b[0m\u001b[0m\n\u001b[0m\u001b[1;32m     19\u001b[0m \u001b[0;34m\u001b[0m\u001b[0m\n\u001b[1;32m     20\u001b[0m     \u001b[0;32mreturn\u001b[0m \u001b[0mcompressedString\u001b[0m\u001b[0;34m\u001b[0m\u001b[0;34m\u001b[0m\u001b[0m\n",
      "\u001b[0;31mAttributeError\u001b[0m: 'str' object has no attribute 'append'"
     ]
    }
   ],
   "source": [
    "def stringCompressor(string): \n",
    "    #iterate over the string\n",
    "    #add first character to start count\n",
    "    #if the previous letter doesn't equal current letter, add letter, count array to a container array and set count as 1\n",
    "    #if the previous letter equals current letter, add to count\n",
    "    #convert arrays to string\n",
    "    \n",
    "    compressed = [[string[0], 1]]\n",
    "    compressedString = ''\n",
    "    \n",
    "    for i in range(1, len(string)):\n",
    "        if (string[i] == string[i-1]):\n",
    "            compressed[len(compressed)-1][1] += 1\n",
    "        else:\n",
    "            compressed.append([string[i], 1])\n",
    "            \n",
    "    for j in compressed:\n",
    "        #\n",
    "        \n",
    "    return compressedString\n",
    "    \n",
    "stringCompressor('aabcccccaaa')\n"
   ]
  },
  {
   "cell_type": "markdown",
   "metadata": {},
   "source": [
    "### *BONUS* Challenge: FizzBuzz\n",
    "Write a program that prints all of the numbers from 1 to 100. For multiples of 3, instead of the number, print \"Fizz;\" for multiples of 5, print \"Buzz.\" For numbers that are multiples of both 3 and 5, print \"FizzBuzz.\" Afterward, write a brief explanation walking through your code's logic in markdown."
   ]
  },
  {
   "cell_type": "code",
   "execution_count": null,
   "metadata": {
    "collapsed": true
   },
   "outputs": [],
   "source": []
  }
 ],
 "metadata": {
  "anaconda-cloud": {},
  "kernelspec": {
   "display_name": "Python 3",
   "language": "python",
   "name": "python3"
  },
  "language_info": {
   "codemirror_mode": {
    "name": "ipython",
    "version": 3
   },
   "file_extension": ".py",
   "mimetype": "text/x-python",
   "name": "python",
   "nbconvert_exporter": "python",
   "pygments_lexer": "ipython3",
   "version": "3.7.3"
  }
 },
 "nbformat": 4,
 "nbformat_minor": 2
}
